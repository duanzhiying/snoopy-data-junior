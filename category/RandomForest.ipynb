{
 "cells": [
  {
   "cell_type": "code",
   "execution_count": 7,
   "metadata": {},
   "outputs": [
    {
     "data": {
      "text/plain": [
       "array([1])"
      ]
     },
     "execution_count": 7,
     "metadata": {},
     "output_type": "execute_result"
    }
   ],
   "source": [
    "from sklearn.ensemble import RandomForestClassifier\n",
    "# 年龄，身高，年收入，学历（0大专/1本科/2硕士）\n",
    "x = [\n",
    "    [25,179,15,0],\n",
    "    [33,190,19,0],\n",
    "    [28,180,18,2],\n",
    "    [25,178,18,2],\n",
    "    [40,170,170,1],\n",
    "    [34,174,20,2],\n",
    "    [29,176,36,1]\n",
    "]\n",
    "# 是否有相亲 0没有 1有\n",
    "y = [0,1,1,1,0,1,1]\n",
    "#分类器\n",
    "clf = RandomForestClassifier().fit(x,y)\n",
    "p = [[25,179,60,0]]\n",
    "# 预测\n",
    "clf.predict(p)"
   ]
  },
  {
   "cell_type": "code",
   "execution_count": null,
   "metadata": {
    "collapsed": true
   },
   "outputs": [],
   "source": []
  }
 ],
 "metadata": {
  "kernelspec": {
   "display_name": "Python 3",
   "language": "python",
   "name": "python3"
  },
  "language_info": {
   "codemirror_mode": {
    "name": "ipython",
    "version": 3
   },
   "file_extension": ".py",
   "mimetype": "text/x-python",
   "name": "python",
   "nbconvert_exporter": "python",
   "pygments_lexer": "ipython3",
   "version": "3.6.3"
  }
 },
 "nbformat": 4,
 "nbformat_minor": 2
}
