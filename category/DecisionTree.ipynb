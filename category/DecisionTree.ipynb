{
 "cells": [
  {
   "cell_type": "code",
   "execution_count": 5,
   "metadata": {
    "collapsed": true
   },
   "outputs": [],
   "source": [
    "import math\n",
    "education = (2.0/12,5.0/12,5.0/12)\n",
    "junior_college = (1.0/2, 1.0/2)\n",
    "undergraduate = (3.0/5, 2.0/5)\n",
    "master = (4.0/5, 1.0/5)\n",
    "\n",
    "date_per = (junior_college, undergraduate, master)"
   ]
  },
  {
   "cell_type": "code",
   "execution_count": 6,
   "metadata": {},
   "outputs": [
    {
     "name": "stdout",
     "output_type": "stream",
     "text": [
      "0.8720327872258462\n"
     ]
    }
   ],
   "source": [
    "# 相亲字段划分规则下的熵\n",
    "def info_date(p):\n",
    "    info = 0\n",
    "    for v in p:\n",
    "        info += v * math.log(v,2)\n",
    "    return info\n",
    "\n",
    "# 使用“学历”字段划分规则下的熵\n",
    "def infoA():\n",
    "    info = 0\n",
    "    for i in range(len(education)):\n",
    "        info += -education[i] * info_date(date_per[i])\n",
    "    return info\n",
    "print(infoA())"
   ]
  },
  {
   "cell_type": "code",
   "execution_count": null,
   "metadata": {
    "collapsed": true
   },
   "outputs": [],
   "source": []
  }
 ],
 "metadata": {
  "kernelspec": {
   "display_name": "Python 3",
   "language": "python",
   "name": "python3"
  },
  "language_info": {
   "codemirror_mode": {
    "name": "ipython",
    "version": 3
   },
   "file_extension": ".py",
   "mimetype": "text/x-python",
   "name": "python",
   "nbconvert_exporter": "python",
   "pygments_lexer": "ipython3",
   "version": "3.6.3"
  }
 },
 "nbformat": 4,
 "nbformat_minor": 2
}
